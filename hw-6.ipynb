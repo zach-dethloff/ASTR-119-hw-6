{
 "cells": [
  {
   "cell_type": "code",
   "execution_count": null,
   "metadata": {},
   "outputs": [],
   "source": [
    "import matplotlib.pyplot as plt\n",
    "import numpy as np\n",
    "%matplotlib inline"
   ]
  },
  {
   "cell_type": "markdown",
   "metadata": {},
   "source": [
    "## Define our derivatives"
   ]
  },
  {
   "cell_type": "code",
   "execution_count": null,
   "metadata": {},
   "outputs": [],
   "source": [
    "def dydx(x,y):\n",
    "    y_derivs = np.zeros(2) #creating a 2x1 array to house derivative values\n",
    "    y_derivs[0] = y[1] #setting the first element to y[1]\n",
    "    y_derivs[1] = -1*y[0] #setting the second element to the negative of y[0]\n",
    "    \n",
    "    return y_derivs"
   ]
  },
  {
   "cell_type": "markdown",
   "metadata": {},
   "source": [
    "## Define 4th order RK method"
   ]
  },
  {
   "cell_type": "code",
   "execution_count": null,
   "metadata": {},
   "outputs": [],
   "source": [
    "def rk4_mv_core(dydx, xi, yi, nv, h): #defining the core function of our 4th order method\n",
    "    \n",
    "    k1 = np.zeros(nv) #creating 4 different arrays each of size nv, the length of yi\n",
    "    k2 = np.zeros(nv)\n",
    "    k3 = np.zeros(nv)\n",
    "    k4 = np.zeros(nv)\n",
    "    \n",
    "    x_ipoh = xi + 0.5*h #generating step functions for half and full steps \n",
    "    x_ipo = xi + h\n",
    "    \n",
    "    y_temp = np.zeros(nv) #creating a y_temp array\n",
    "    y_derivs = dydx(xi,yi) #filling k arrays with values based off of derivative steps\n",
    "    k1[:] = h*y_derivs[:]\n",
    "    \n",
    "    \n",
    "    y_temp[:] = yi[:] + 0.5*k1[:] #filling k2 array with values\n",
    "    y_derivs = dydx(x_ipoh,y_temp)\n",
    "    k2[:] = h*y_derivs[:]\n",
    "    \n",
    "    y_temp[:] = yi[:] + 0.5*k2[:] #getting k3 values\n",
    "    y_derivs = dydx(x_ipoh,y_temp)\n",
    "    k3[:] = h*y_derivs[:]\n",
    "    \n",
    "    y_temp[:] = yi[:] + k3[:] #finishing by getting k4 values\n",
    "    y_derivs = dydx(x_ipo, y_temp)\n",
    "    k4[:] = h*y_derivs[:]\n",
    "    \n",
    "    yipo = yi + (k1 + 2*k2 + 2*k3 + k4)/6. #function to bring y forwards by an h sized step\n",
    "    \n",
    "    return yipo #returning advanced y value\n",
    "    "
   ]
  },
  {
   "cell_type": "markdown",
   "metadata": {},
   "source": [
    "## Define a step size driver"
   ]
  },
  {
   "cell_type": "code",
   "execution_count": null,
   "metadata": {},
   "outputs": [],
   "source": [
    "def rk4_mv_ad(dydx, x_i, y_i, nv, h, tol): #defining a step driver\n",
    "    SAFETY = 0.9 #creating a safety variable incase higher valued attempts fall outside of our error\n",
    "    H_NEW_FAC = 2.0 #creating a reach value that we could get lucky with\n",
    "    \n",
    "    imax = 10000 #max iteration value\n",
    "    \n",
    "    i = 0 #setting a variable to store iterations\n",
    "    \n",
    "    Delta = np.full(nv, 2*tol) #creating an error function\n",
    "    \n",
    "    h_step = h #step storage variable\n",
    "    \n",
    "    while(Delta.max()/tol > 1.0): #while loop to test our two different types of steps\n",
    "        \n",
    "        y_2 = rk4_mv_core(dydx, x_i, y_i, nv, h_step) #full step function\n",
    "        y_1 = rk4_mv_core(dydx, x_i, y_i, nv, 0.5*h_step) #two half step functions\n",
    "        y_11 = rk4_mv_core(dydx, x_i+0.5*h_step, y_1, nv, 0.5*h_step)\n",
    "        \n",
    "        Delta = np.fabs(y_2 - y_11) #figuring out the difference between both types of tests\n",
    "        \n",
    "        if(Delta.max()/tol>1.0): #checking to see if the difference is too big to continue with\n",
    "            h_step *= SAFETY * (Delta.max()/tol)**(-0.25) #if it is then we use our safety variable to decrease the step\n",
    "            \n",
    "        if(i>=imax): #setting up a response for over iterating\n",
    "            print(\"Too many steps\")\n",
    "            raise StopIteration(\"Ending after: \",i)\n",
    "            \n",
    "        i += 1\n",
    "        \n",
    "    h_new = np.fmin(h_step * (Delta.max()/tol)**(-0.9), h_step*H_NEW_FAC) #creating a variable to attempt a bigger step\n",
    "    \n",
    "    return y_2, h_new, h_step #returning y_2 (our answer), h_new (a next attempt at a bigger step), and h_step (our actual step)\n"
   ]
  },
  {
   "cell_type": "code",
   "execution_count": null,
   "metadata": {},
   "outputs": [],
   "source": [
    "def rk4_mv(dydx, a, b, y_a, tol): #wrapper for rk4\n",
    "    \n",
    "    xi = a #variable for our starting value\n",
    "    yi = y_a.copy() #boundary condition\n",
    "    \n",
    "    h = 1.0e-4*(b-a) #setting up an initial step size\n",
    "    \n",
    "    imax = 10000\n",
    "    \n",
    "    i = 0\n",
    "    \n",
    "    nv = len(y_a) #setting the size of our coupled nodes equal to our boundary condition\n",
    "    \n",
    "    x = np.full(1,a) #initial value\n",
    "    y = np.full((1,nv), y_a) #initial condition\n",
    "    \n",
    "    flag = 1 #creating a flag variable for later loops\n",
    "    \n",
    "    while(flag):\n",
    "        yi_new, h_new, h_step = rk4_mv_ad(dydx, xi, yi, nv, h, tol) #sending an answer, step attempt, and step function into our driver\n",
    "        \n",
    "        h = h_new #setting our step to our step attempt\n",
    "        \n",
    "        if(xi + h_step>b): #checking to see if we overshot\n",
    "            \n",
    "            h = b-xi #smaller step\n",
    "            \n",
    "            yi_new, h_new, h_step = rk4_mv_ad(dydx, xi, yi, nv, h, tol) #if we overshot, recalculating with a smaller step\n",
    "            \n",
    "            flag = 0 #breaking the function\n",
    "            \n",
    "        xi += h_step # updating our values\n",
    "        yi[:] = yi_new[:]\n",
    "        \n",
    "        x = np.append(x, xi) #adding to our x array the new values\n",
    "        \n",
    "        y_new = np.zeros((len(x), nv) ) #adding to all of our arrays the updated functions\n",
    "        \n",
    "        y_new[0:len(x)-1,:] = y\n",
    "        y_new[-1:] = yi[:]\n",
    "        \n",
    "        del y\n",
    "        \n",
    "        y = y_new\n",
    "        \n",
    "        if(i>=imax): #stopping if we hit max iterations\n",
    "            print(\"max iterations reached\")\n",
    "            raise StopIterations(\"Iterations stopped: \",i)\n",
    "            \n",
    "        i+=1\n",
    "        \n",
    "        s = \"i = %3d\\tx = %9.8f\\th = %9.8f\\tb=%9.8f\" % (i, xi, h_step, b) #output information as we iterate through functions\n",
    "        print(s)\n",
    "        \n",
    "        if(xi==b):\n",
    "            flag = 0\n",
    "    return x,y"
   ]
  },
  {
   "cell_type": "code",
   "execution_count": null,
   "metadata": {},
   "outputs": [],
   "source": [
    "a = 0.0 #setting our initial values\n",
    "b = 2.0*np.pi\n",
    "\n",
    "y_0 = np.zeros(2) \n",
    "y_0[0] = 0.0\n",
    "y_0[1] = 1.0\n",
    "\n",
    "nv = 2\n",
    "\n",
    "tolerance = 1.0e-6\n",
    "\n",
    "x,y = rk4_mv(dydx,a,b,y_0,tolerance) #calling our function to perform the operation"
   ]
  },
  {
   "cell_type": "markdown",
   "metadata": {},
   "source": [
    "# Plot the Result"
   ]
  },
  {
   "cell_type": "code",
   "execution_count": null,
   "metadata": {},
   "outputs": [],
   "source": [
    "plt.plot(x,y[:,0], 'o',label='y(x)') #plotting the initial function\n",
    "plt.plot(x,y[:,1], 'o', label='dydx(x)') #plotting the dydx function\n",
    "xx = np.linspace(0,2.0*np.pi,1000) #plotting trendlines\n",
    "plt.plot(xx,np.sin(xx),label = 'sin(x)')\n",
    "plt.plot(xx,np.cos(xx),label = 'cos(x)')\n",
    "plt.xlabel('x') #labeling\n",
    "plt.ylabel('y, dydx')\n",
    "plt.legend(frameon=False)"
   ]
  },
  {
   "cell_type": "code",
   "execution_count": null,
   "metadata": {},
   "outputs": [],
   "source": [
    "sine = np.sin(x) #creating an error plot\n",
    "cosine = np.cos(x)\n",
    "\n",
    "y_error = (y[:,0]-sine)\n",
    "dydx_error = (y[:,1]-cosine)\n",
    "\n",
    "plt.plot(x, y_error, label = 'y(x) Error') #plotting the function error \n",
    "plt.plot(x, dydx_error, label='dydx(x) Error') #plotting the differential function error\n",
    "plt.legend(frameon=False)"
   ]
  },
  {
   "cell_type": "code",
   "execution_count": null,
   "metadata": {},
   "outputs": [],
   "source": []
  }
 ],
 "metadata": {
  "kernelspec": {
   "display_name": "Python 3",
   "language": "python",
   "name": "python3"
  },
  "language_info": {
   "codemirror_mode": {
    "name": "ipython",
    "version": 3
   },
   "file_extension": ".py",
   "mimetype": "text/x-python",
   "name": "python",
   "nbconvert_exporter": "python",
   "pygments_lexer": "ipython3",
   "version": "3.8.3"
  }
 },
 "nbformat": 4,
 "nbformat_minor": 4
}
